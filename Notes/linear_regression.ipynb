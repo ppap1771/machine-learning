{
 "cells": [
  {
   "cell_type": "markdown",
   "metadata": {},
   "source": [
    "# Linear Regression model\n",
    "---"
   ]
  },
  {
   "cell_type": "markdown",
   "metadata": {},
   "source": [
    "> A computer program is said to learn from experience $E$ with respect to some class of tasks $T$ and performance measure $P$, if its performance at tasks in $T$, as measured by $P$, improves with experience $E$. Hence, \n",
    "\n",
    "$$ E = Experience; $$\n",
    "$$T = Task; $$\n",
    "$$P = Performance Measure$$"
   ]
  },
  {
   "cell_type": "markdown",
   "metadata": {},
   "source": [
    "### Supervised Learning\n",
    "> We are given a labelled data set and hence, we already know what our correct output should look like, having the idea that there is a relationship between the input and the output. That relationship is essential to our algorithm as we look implement a linear regression model in Python.\n",
    "\n",
    "- <b> Regression </b> \n",
    "<br/>Predict results within a continuous output.\n",
    "\n",
    "- <b> Classification </b>\n",
    "<br/>Predict results in a discrete output."
   ]
  },
  {
   "cell_type": "markdown",
   "metadata": {},
   "source": [
    "### Unsupervised Learning\n",
    "> We derive a structure from data where we don't necessarily know the effect of the variables. This structure is derived by clustering the data based on relationships among the variables in the data."
   ]
  },
  {
   "cell_type": "markdown",
   "metadata": {},
   "source": [
    "### Model Representation\n",
    "Let $x^{(i)}$ denote input and $y^{(i)}$ denote output. Such an ordered pair $(x^{(i)}, y^{(i)})$ is called a training example. Our goal is, given a training set, which contains numerous such training examples, to learn a function $h_{\\theta} : X → Y$, where $\\theta$ is a parameter or set of parameters determined, so that $h(x)$ is a \"good\" predictor for the corresponding value of $y$. This function $h_{\\theta}$ is called a hypothesis.\n"
   ]
  },
  {
   "cell_type": "markdown",
   "metadata": {},
   "source": [
    "### Cost Function\n",
    "The accuracy of hypothesis function is measured using a **cost function**. A cost function is a measure of how much error we are incurring by predicting a value using our hypothesis function, measured against the label in the dataset. This function is basically a squared error function or a mean squared error function.\n",
    "\n",
    "$Hypothesis:$\n",
    "$h_{\\theta}(x) = \\theta_{0} + \\theta_{1}x\\\\$\n",
    "\n",
    "$Parameters:$\n",
    "$\\theta_{0}, \\theta_{1}\\\\ \\\\$\n",
    "\n",
    "$Cost \\hspace{3px} Function:$\n",
    "$J(\\theta_{0}, \\theta_{1}) = \\frac{1}{2m}\\sum_{i=1}^{m} (h_{\\theta}(x_{i})-y_{i})^{2}\\\\$\n",
    "\n",
    "$Goal:$\n",
    "$minimize \\hspace{3px} J(\\theta_{0}, \\theta_{1})$<br/>\n",
    "\n",
    "The mean is halved by introducing a factor of $2$, as a convenience for the computation of the gradient descent, as the derivative term of the square function will cancel out the $\\frac{1}{2}$ term."
   ]
  },
  {
   "cell_type": "markdown",
   "metadata": {},
   "source": [
    "### Gradient Descent\n",
    "The idea of gradient descent is to iteratively reduce the value of cost function, hence moving in the direction of decresing error, or more formally, moving iteratively in the direction of steepest gradient of the cost functions. <p>The gradient descent algorithm we use is given below, which is repeated untill it converges to minima:\n",
    "\n",
    "$\\theta_{j} := \\theta_{j} - \\alpha \\frac{\\partial}{\\partial \\theta_{j}} J(\\theta_{0}, \\theta_{1})$\n",
    "\n",
    "Here, $\\alpha$ is known as **learning rate** which determines the size of each step. The learning rate $\\alpha$ is a parameter defining how fast we intend to converge to the minima of the cost function. But a certain and unavoidable tradeoff is involved. A high learning rate, though leads to faster convergence to a value, but is associated with an efficient model. On the other hand, a very small learning rate, though trains an excellent predictive model, but takes large number of iterations to converge to minima. This trade-off has to be kept in mind while determining the learning rate.<p> \n",
    "The direction of the step taken is determined by the partial derivative of $J(\\theta_{0}, \\theta_{1})$. Depending on the starting point, one can end up at different points. At each iteration, one should simultaneously update the parameters $\\theta_{0}, \\theta_{1}, \\theta_{2}, ... ,\\theta_{n}$\n",
    "\n",
    "Example:\n",
    "\n",
    "$temp0 := \\theta_{0} - \\alpha \\frac{\\partial}{\\partial \\theta_{0}} J(\\theta_{0}, \\theta_{1})$<br/>\n",
    "$temp1 := \\theta_{1} - \\alpha \\frac{\\partial}{\\partial \\theta_{1}} J(\\theta_{0}, \\theta_{1})$<br/>\n",
    "\n",
    "$\\theta_{0} := temp0\\\\$<br/>\n",
    "$\\theta_{1} := temp1\\\\$\n",
    "\n",
    "$\\frac{\\partial}{\\partial \\theta_{j}} J(\\theta_{0}, \\theta_{1}) = \\frac{\\partial}{\\partial \\theta_{j}}[\\frac{1}{2m}\\sum_{i=1}^{m} (h_{\\theta}(x^{(i)})-y^{(i)})]$\n",
    "\n",
    "$j = 0: \\frac{\\partial}{\\partial \\theta_{0}} J(\\theta_{0}, \\theta_{1}) = \\frac{1}{m}\\sum_{i=1}^{m} (h_{\\theta}(x^{(i)})-y^{(i)})$<br/>\n",
    "$j = 1: \\frac{\\partial}{\\partial \\theta_{1}} J(\\theta_{0}, \\theta_{1}) = \\frac{1}{m}\\sum_{i=1}^{m} (h_{\\theta}(x^{(i)})-y^{(i)}) x^{(i)}$"
   ]
  },
  {
   "cell_type": "markdown",
   "metadata": {},
   "source": [
    "### Linear Regression using Gradient Descent in Python"
   ]
  },
  {
   "cell_type": "code",
   "execution_count": 1,
   "metadata": {},
   "outputs": [],
   "source": [
    "import numpy as np\n",
    "import pandas as pd\n",
    "from matplotlib import pyplot as plt"
   ]
  },
  {
   "cell_type": "code",
   "execution_count": 2,
   "metadata": {},
   "outputs": [
    {
     "data": {
      "image/png": "[encoded data removed]",
      "text/plain": [
       "<Figure size 432x288 with 1 Axes>"
      ]
     },
     "metadata": {
      "needs_background": "light"
     },
     "output_type": "display_data"
    }
   ],
   "source": [
    "train = pd.read_csv('./data/train.csv')\n",
    "dataset = list(zip(train.x, train.y))\n",
    "for i in dataset: plt.plot(i[0], i[1], 'r.')\n",
    "plt.xlabel('x')\n",
    "plt.ylabel('y')\n",
    "plt.show()"
   ]
  },
  {
   "cell_type": "code",
   "execution_count": 3,
   "metadata": {},
   "outputs": [
    {
     "name": "stdout",
     "output_type": "stream",
     "text": [
      "-1.9530418151059845 1.0282511756687693\n"
     ]
    }
   ],
   "source": [
    "learning_rate = 0.000001\n",
    "steps = 100000\n",
    "\n",
    "O0 = -2.0\n",
    "O1 = 1.0\n",
    "\n",
    "def hypothesis(O0, O1, x):\n",
    "    return O0+(x*O1)\n",
    "\n",
    "def J0(O0, O1, x, y):\n",
    "    S = 0.0\n",
    "    N = 700\n",
    "    for i in range(N):\n",
    "        S+=((hypothesis(O0, O1, x[i])-y[i]))\n",
    "\n",
    "    return (1/N)*(S)\n",
    "\n",
    "def J1(O0, O1, x, y):\n",
    "    S = 0.0\n",
    "    N = 700\n",
    "    for i in range(N):\n",
    "        S+=(((hypothesis(O0, O1, x[i])-y[i]))*x[i])\n",
    "\n",
    "    return (1/N)*(S)\n",
    "\n",
    "while (steps):\n",
    "    temp0 = O0-(learning_rate*J0(O0, O1, list(train.x), list(train.y)))\n",
    "    temp1 = O1-(learning_rate*J1(O0, O1, list(train.x), list(train.y)))\n",
    "    O0 = temp0\n",
    "    O1 = temp1\n",
    "    steps -= 1\n",
    "\n",
    "print(O0, O1)"
   ]
  },
  {
   "cell_type": "code",
   "execution_count": 4,
   "metadata": {},
   "outputs": [
    {
     "data": {
      "image/png": "[encoded data removed]",
      "text/plain": [
       "<Figure size 432x288 with 1 Axes>"
      ]
     },
     "metadata": {
      "needs_background": "light"
     },
     "output_type": "display_data"
    }
   ],
   "source": [
    "for i in dataset: plt.plot(i[0], i[1], 'r.')\n",
    "x = np.array([0.0 ,50.0,102.0])\n",
    "y = O0+O1*x\n",
    "plt.plot(x,y,'b')\n",
    "plt.xlabel('x')\n",
    "plt.ylabel('y')\n",
    "plt.show()"
   ]
  }
 ],
 "metadata": {
  "interpreter": {
   "hash": "277fe73541ed05d7bc54e65c6dfa2c78225434c3adf4f21851f14fc650481d1b"
  },
  "kernelspec": {
   "display_name": "Python 3.10.2 64-bit",
   "language": "python",
   "name": "python3"
  },
  "language_info": {
   "codemirror_mode": {
    "name": "ipython",
    "version": 3
   },
   "file_extension": ".py",
   "mimetype": "text/x-python",
   "name": "python",
   "nbconvert_exporter": "python",
   "pygments_lexer": "ipython3",
   "version": "3.10.2"
  },
  "orig_nbformat": 4
 },
 "nbformat": 4,
 "nbformat_minor": 2
}
